{
 "cells": [
  {
   "cell_type": "code",
   "execution_count": 1,
   "id": "1f0f567b-7bbe-40b7-be2e-04a01426ca43",
   "metadata": {},
   "outputs": [],
   "source": [
    "import numpy as np\n",
    "import h5py\n",
    "import glob, os, re, sys\n",
    "import time\n",
    "\n",
    "import pickle\n",
    "import random\n",
    "import numpy as np\n",
    "from pathlib import Path\n",
    "import matplotlib.pyplot as plt\n",
    "\n",
    "from ArtistNames_analysis import ArtistNames\n",
    "\n",
    "%matplotlib inline\n",
    "import matplotlib as mpl\n",
    "import matplotlib.pyplot as plt\n",
    "from matplotlib import gridspec\n",
    "from matplotlib import cm\n",
    "from matplotlib import rc\n",
    "plt.style.use('bmh')\n",
    "cmap = mpl.colormaps['viridis']\n",
    "rc('font',**{'family':'DejaVu Sans','sans-serif':['Helvetica']})"
   ]
  },
  {
   "cell_type": "markdown",
   "id": "43dac28b-9c2d-48d1-89ff-588df90f6ffd",
   "metadata": {},
   "source": [
    "# analysis for 1000 random artists"
   ]
  },
  {
   "cell_type": "code",
   "execution_count": 6,
   "id": "a248b092-98d6-4c21-86df-1b739b7b24a4",
   "metadata": {},
   "outputs": [],
   "source": [
    "start_time = time.time()\n",
    "data = ArtistNames(rand_num_artist_names=1000, random_seed=100)\n",
    "print(f\"Time to load data: {time.time() - start_time}\")"
   ]
  },
  {
   "cell_type": "code",
   "execution_count": 11,
   "id": "538d49a0-13d9-497f-a4d2-d51c0033339f",
   "metadata": {},
   "outputs": [
    {
     "data": {
      "text/plain": [
       "(array([26.,  8.,  5.,  7.,  3.,  6.,  5.,  2.,  4.,  2.,  0.,  2.,  1.,\n",
       "         0.,  1.,  1.,  1.,  0.,  1.,  1.]),\n",
       " array([ 0.  ,  2.85,  5.7 ,  8.55, 11.4 , 14.25, 17.1 , 19.95, 22.8 ,\n",
       "        25.65, 28.5 , 31.35, 34.2 , 37.05, 39.9 , 42.75, 45.6 , 48.45,\n",
       "        51.3 , 54.15, 57.  ]),\n",
       " [<matplotlib.patches.Polygon at 0x146f7d065640>])"
      ]
     },
     "execution_count": 11,
     "metadata": {},
     "output_type": "execute_result"
    },
    {
     "data": {
      "image/png": "[encoded data removed]",
      "text/plain": [
       "<Figure size 640x480 with 1 Axes>"
      ]
     },
     "metadata": {},
     "output_type": "display_data"
    }
   ],
   "source": [
    "plt.hist(data.artist_info['popularity'], bins=20, histtype='step', lw=2, log=True)"
   ]
  },
  {
   "cell_type": "code",
   "execution_count": 13,
   "id": "8851388d-1318-48f1-b775-b2f6e6c5a427",
   "metadata": {},
   "outputs": [
    {
     "name": "stdout",
     "output_type": "stream",
     "text": [
      "[15, 12, 6, 20, 4, 7, 12, 20, 9, 7, 4, 8, 10, 9, 4, 1, 4, 5, 18, 0, 1, 0, 2, 1, 20, 1, 0, 6, 1, 0, 3, 20, 20, 4, 2, 20, 6, 9, 7, 0, 7, 0, 5, 13, 0, 1, 0, 20, 5, 1, 6, 0, 1, 18, 1, 2, 1, 0, 7, 0, 0, 3, 2, 5, 2, 0, 0, 20, 20, 0, 2, 1, 20, 20, 2, 16]\n"
     ]
    },
    {
     "ename": "TypeError",
     "evalue": "'>' not supported between instances of 'NoneType' and 'int'",
     "output_type": "error",
     "traceback": [
      "\u001b[0;31m---------------------------------------------------------------------------\u001b[0m",
      "\u001b[0;31mTypeError\u001b[0m                                 Traceback (most recent call last)",
      "Cell \u001b[0;32mIn[13], line 2\u001b[0m\n\u001b[1;32m      1\u001b[0m \u001b[38;5;28mprint\u001b[39m(data\u001b[38;5;241m.\u001b[39martist_info[\u001b[38;5;124m'\u001b[39m\u001b[38;5;124mnum_releases\u001b[39m\u001b[38;5;124m'\u001b[39m])\n\u001b[0;32m----> 2\u001b[0m active_artist_data \u001b[38;5;241m=\u001b[39m \u001b[43mdata\u001b[49m\u001b[38;5;241;43m.\u001b[39;49m\u001b[43mget_active_artists\u001b[49m\u001b[43m(\u001b[49m\u001b[43m)\u001b[49m\n\u001b[1;32m      3\u001b[0m \u001b[38;5;28mprint\u001b[39m(active_artist_data[\u001b[38;5;124m'\u001b[39m\u001b[38;5;124mpopularity\u001b[39m\u001b[38;5;124m'\u001b[39m])\n",
      "File \u001b[0;32m~/serch/ArtistNames_analysis.py:186\u001b[0m, in \u001b[0;36mget_active_artists\u001b[0;34m(self)\u001b[0m\n\u001b[1;32m    180\u001b[0m \u001b[38;5;28;01mdef\u001b[39;00m \u001b[38;5;21mget_active_artists\u001b[39m(\u001b[38;5;28mself\u001b[39m) \u001b[38;5;241m-\u001b[39m\u001b[38;5;241m>\u001b[39m Dict[\u001b[38;5;28mstr\u001b[39m, np\u001b[38;5;241m.\u001b[39marray]:\n\u001b[1;32m    181\u001b[0m \u001b[38;5;250m    \u001b[39m\u001b[38;5;124;03m'''Get artists that fulfil both of the following:\u001b[39;00m\n\u001b[1;32m    182\u001b[0m \u001b[38;5;124;03m    1. Have produced new music in the past five years\u001b[39;00m\n\u001b[1;32m    183\u001b[0m \u001b[38;5;124;03m    2. If they're more than 2 and less than 10 years old, have a total number of\u001b[39;00m\n\u001b[1;32m    184\u001b[0m \u001b[38;5;124;03m       tracks that's larger than the number of years since their first release.\u001b[39;00m\n\u001b[1;32m    185\u001b[0m \u001b[38;5;124;03m    This does not include legacy artists who were famous but have retired.\u001b[39;00m\n\u001b[0;32m--> 186\u001b[0m \u001b[38;5;124;03m    '''\u001b[39;00m\n\u001b[1;32m    188\u001b[0m     cnd0 \u001b[38;5;241m=\u001b[39m np\u001b[38;5;241m.\u001b[39marray([num_releases \u001b[38;5;241m>\u001b[39m \u001b[38;5;241m0\u001b[39m \u001b[38;5;28;01mfor\u001b[39;00m num_releases \u001b[38;5;129;01min\u001b[39;00m \u001b[38;5;28mself\u001b[39m\u001b[38;5;241m.\u001b[39martist_info[\u001b[38;5;124m'\u001b[39m\u001b[38;5;124mnum_releases\u001b[39m\u001b[38;5;124m'\u001b[39m]])\n\u001b[1;32m    189\u001b[0m     active_artist_info \u001b[38;5;241m=\u001b[39m {key: np\u001b[38;5;241m.\u001b[39marray(\u001b[38;5;28mself\u001b[39m\u001b[38;5;241m.\u001b[39martist_info[key])[cnd0] \u001b[38;5;28;01mfor\u001b[39;00m key \u001b[38;5;129;01min\u001b[39;00m \u001b[38;5;28mself\u001b[39m\u001b[38;5;241m.\u001b[39martist_info\u001b[38;5;241m.\u001b[39mkeys()}\n",
      "File \u001b[0;32m~/serch/ArtistNames_analysis.py:189\u001b[0m, in \u001b[0;36m<listcomp>\u001b[0;34m(.0)\u001b[0m\n\u001b[1;32m    181\u001b[0m \u001b[38;5;250m\u001b[39m\u001b[38;5;124;03m'''Get artists that fulfil both of the following:\u001b[39;00m\n\u001b[1;32m    182\u001b[0m \u001b[38;5;124;03m1. Have produced new music in the past five years\u001b[39;00m\n\u001b[1;32m    183\u001b[0m \u001b[38;5;124;03m2. If they're more than 2 and less than 10 years old, have a total number of\u001b[39;00m\n\u001b[1;32m    184\u001b[0m \u001b[38;5;124;03m   tracks that's larger than the number of years since their first release.\u001b[39;00m\n\u001b[1;32m    185\u001b[0m \u001b[38;5;124;03mThis does not include legacy artists who were famous but have retired.\u001b[39;00m\n\u001b[1;32m    186\u001b[0m \u001b[38;5;124;03m'''\u001b[39;00m\n\u001b[1;32m    188\u001b[0m cnd0 \u001b[38;5;241m=\u001b[39m np\u001b[38;5;241m.\u001b[39marray([num_releases \u001b[38;5;241m>\u001b[39m \u001b[38;5;241m0\u001b[39m \u001b[38;5;28;01mfor\u001b[39;00m num_releases \u001b[38;5;129;01min\u001b[39;00m \u001b[38;5;28mself\u001b[39m\u001b[38;5;241m.\u001b[39martist_info[\u001b[38;5;124m'\u001b[39m\u001b[38;5;124mnum_releases\u001b[39m\u001b[38;5;124m'\u001b[39m]])\n\u001b[0;32m--> 189\u001b[0m active_artist_info \u001b[38;5;241m=\u001b[39m {key: np\u001b[38;5;241m.\u001b[39marray(\u001b[38;5;28mself\u001b[39m\u001b[38;5;241m.\u001b[39martist_info[key])[cnd0] \u001b[38;5;28;01mfor\u001b[39;00m key \u001b[38;5;129;01min\u001b[39;00m \u001b[38;5;28mself\u001b[39m\u001b[38;5;241m.\u001b[39martist_info\u001b[38;5;241m.\u001b[39mkeys()}\n\u001b[1;32m    191\u001b[0m cnd1 \u001b[38;5;241m=\u001b[39m np\u001b[38;5;241m.\u001b[39marray([last_release \u001b[38;5;241m>\u001b[39m \u001b[38;5;28mself\u001b[39m\u001b[38;5;241m.\u001b[39mcurrent_year \u001b[38;5;241m-\u001b[39m \u001b[38;5;241m5\u001b[39m \u001b[38;5;28;01mfor\u001b[39;00m last_release \u001b[38;5;129;01min\u001b[39;00m active_artist_info[\u001b[38;5;124m'\u001b[39m\u001b[38;5;124mlast_release\u001b[39m\u001b[38;5;124m'\u001b[39m]])\n\u001b[1;32m    192\u001b[0m active_artist_info \u001b[38;5;241m=\u001b[39m {key: np\u001b[38;5;241m.\u001b[39marray(active_artist_info[key])[cnd1] \u001b[38;5;28;01mfor\u001b[39;00m key \u001b[38;5;129;01min\u001b[39;00m active_artist_info\u001b[38;5;241m.\u001b[39mkeys()}\n",
      "\u001b[0;31mTypeError\u001b[0m: '>' not supported between instances of 'NoneType' and 'int'"
     ]
    }
   ],
   "source": [
    "print(data.artist_info['num_releases'])\n",
    "active_artist_data = data.get_active_artists()\n",
    "print(active_artist_data['popularity'])"
   ]
  },
  {
   "cell_type": "code",
   "execution_count": null,
   "id": "87c3fec2-fc81-47fe-af2e-f902510a4d08",
   "metadata": {},
   "outputs": [],
   "source": []
  },
  {
   "cell_type": "code",
   "execution_count": null,
   "id": "b821f989-ed8f-4b97-aebf-80fc450a6b10",
   "metadata": {},
   "outputs": [],
   "source": []
  },
  {
   "cell_type": "code",
   "execution_count": null,
   "id": "2e381db7-b85a-4427-b079-497d4937ef6b",
   "metadata": {},
   "outputs": [],
   "source": []
  },
  {
   "cell_type": "code",
   "execution_count": null,
   "id": "d749a959-d5a2-4918-b977-ac54ea6111ec",
   "metadata": {},
   "outputs": [],
   "source": []
  }
 ],
 "metadata": {
  "kernelspec": {
   "display_name": "Python 3 (ipykernel)",
   "language": "python",
   "name": "python3"
  },
  "language_info": {
   "codemirror_mode": {
    "name": "ipython",
    "version": 3
   },
   "file_extension": ".py",
   "mimetype": "text/x-python",
   "name": "python",
   "nbconvert_exporter": "python",
   "pygments_lexer": "ipython3",
   "version": "3.8.18"
  }
 },
 "nbformat": 4,
 "nbformat_minor": 5
}
