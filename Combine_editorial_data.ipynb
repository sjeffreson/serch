{
 "cells": [
  {
   "cell_type": "code",
   "execution_count": 1,
   "metadata": {},
   "outputs": [],
   "source": [
    "import numpy as np\n",
    "import pandas as pd\n",
    "import artist_info_helper as aih\n",
    "\n",
    "import glob, os, re, sys\n",
    "from datetime import datetime\n",
    "import pickle\n",
    "import time\n",
    "import copy\n",
    "from pathlib import Path\n",
    "\n",
    "import matplotlib.pyplot as plt\n",
    "import matplotlib.ticker as ticker\n",
    "%matplotlib inline\n",
    "import matplotlib as mpl\n",
    "import matplotlib.pyplot as plt\n",
    "plt.style.use('mpl_style_Jeffreson.mplstyle')"
   ]
  },
  {
   "cell_type": "code",
   "execution_count": 4,
   "metadata": {},
   "outputs": [],
   "source": [
    "DEFAULT_DIR = '/n/holystore01/LABS/itc_lab/Users/sjeffreson/serch/artist-database/Editorial-playlists/'"
   ]
  },
  {
   "cell_type": "code",
   "execution_count": 23,
   "metadata": {},
   "outputs": [],
   "source": [
    "# create a new dataframe that will store all the featured artist data, including the date\n",
    "# collected, and the track IDs of the featured tracks\n",
    "if not os.path.exists(DEFAULT_DIR + 'featured_Spotify_artist_info.csv'):\n",
    "    df_feat = pd.DataFrame(columns=[\n",
    "        'dates', 'ids', 'names', 'monthly_listeners', 'popularity', 'followers',\n",
    "        'genres', 'first_release', 'last_release', 'num_releases', 'num_tracks',\n",
    "        'playlists_found', 'feat_track_ids'\n",
    "    ])\n",
    "else:\n",
    "    df_feat = pd.read_csv(DEFAULT_DIR + 'featured_Spotify_artist_info.csv')"
   ]
  },
  {
   "cell_type": "code",
   "execution_count": 27,
   "metadata": {},
   "outputs": [],
   "source": [
    "dates = ['2024-04-' + str(i).zfill(2) for i in range(1, 31)] + ['2024-05-' + str(i).zfill(2) for i in range(1, 10)]\n",
    "dates = [d for d in dates if d not in df_feat['dates'].values]"
   ]
  },
  {
   "cell_type": "code",
   "execution_count": 28,
   "metadata": {},
   "outputs": [
    {
     "name": "stderr",
     "output_type": "stream",
     "text": [
      "/tmp/ipykernel_2617722/338375764.py:23: SettingWithCopyWarning: \n",
      "A value is trying to be set on a copy of a slice from a DataFrame\n",
      "\n",
      "See the caveats in the documentation: https://pandas.pydata.org/pandas-docs/stable/user_guide/indexing.html#returning-a-view-versus-a-copy\n",
      "  artist_info_df['feat_track_ids'].iloc[i] = ', '.join(track_ids)\n",
      "/tmp/ipykernel_2617722/338375764.py:23: SettingWithCopyWarning: \n",
      "A value is trying to be set on a copy of a slice from a DataFrame\n",
      "\n",
      "See the caveats in the documentation: https://pandas.pydata.org/pandas-docs/stable/user_guide/indexing.html#returning-a-view-versus-a-copy\n",
      "  artist_info_df['feat_track_ids'].iloc[i] = ', '.join(track_ids)\n",
      "/tmp/ipykernel_2617722/338375764.py:23: SettingWithCopyWarning: \n",
      "A value is trying to be set on a copy of a slice from a DataFrame\n",
      "\n",
      "See the caveats in the documentation: https://pandas.pydata.org/pandas-docs/stable/user_guide/indexing.html#returning-a-view-versus-a-copy\n",
      "  artist_info_df['feat_track_ids'].iloc[i] = ', '.join(track_ids)\n",
      "/tmp/ipykernel_2617722/338375764.py:23: SettingWithCopyWarning: \n",
      "A value is trying to be set on a copy of a slice from a DataFrame\n",
      "\n",
      "See the caveats in the documentation: https://pandas.pydata.org/pandas-docs/stable/user_guide/indexing.html#returning-a-view-versus-a-copy\n",
      "  artist_info_df['feat_track_ids'].iloc[i] = ', '.join(track_ids)\n",
      "/tmp/ipykernel_2617722/338375764.py:23: SettingWithCopyWarning: \n",
      "A value is trying to be set on a copy of a slice from a DataFrame\n",
      "\n",
      "See the caveats in the documentation: https://pandas.pydata.org/pandas-docs/stable/user_guide/indexing.html#returning-a-view-versus-a-copy\n",
      "  artist_info_df['feat_track_ids'].iloc[i] = ', '.join(track_ids)\n",
      "/tmp/ipykernel_2617722/338375764.py:23: SettingWithCopyWarning: \n",
      "A value is trying to be set on a copy of a slice from a DataFrame\n",
      "\n",
      "See the caveats in the documentation: https://pandas.pydata.org/pandas-docs/stable/user_guide/indexing.html#returning-a-view-versus-a-copy\n",
      "  artist_info_df['feat_track_ids'].iloc[i] = ', '.join(track_ids)\n",
      "/tmp/ipykernel_2617722/338375764.py:23: SettingWithCopyWarning: \n",
      "A value is trying to be set on a copy of a slice from a DataFrame\n",
      "\n",
      "See the caveats in the documentation: https://pandas.pydata.org/pandas-docs/stable/user_guide/indexing.html#returning-a-view-versus-a-copy\n",
      "  artist_info_df['feat_track_ids'].iloc[i] = ', '.join(track_ids)\n",
      "/tmp/ipykernel_2617722/338375764.py:23: SettingWithCopyWarning: \n",
      "A value is trying to be set on a copy of a slice from a DataFrame\n",
      "\n",
      "See the caveats in the documentation: https://pandas.pydata.org/pandas-docs/stable/user_guide/indexing.html#returning-a-view-versus-a-copy\n",
      "  artist_info_df['feat_track_ids'].iloc[i] = ', '.join(track_ids)\n",
      "/tmp/ipykernel_2617722/338375764.py:23: SettingWithCopyWarning: \n",
      "A value is trying to be set on a copy of a slice from a DataFrame\n",
      "\n",
      "See the caveats in the documentation: https://pandas.pydata.org/pandas-docs/stable/user_guide/indexing.html#returning-a-view-versus-a-copy\n",
      "  artist_info_df['feat_track_ids'].iloc[i] = ', '.join(track_ids)\n",
      "/tmp/ipykernel_2617722/338375764.py:23: SettingWithCopyWarning: \n",
      "A value is trying to be set on a copy of a slice from a DataFrame\n",
      "\n",
      "See the caveats in the documentation: https://pandas.pydata.org/pandas-docs/stable/user_guide/indexing.html#returning-a-view-versus-a-copy\n",
      "  artist_info_df['feat_track_ids'].iloc[i] = ', '.join(track_ids)\n",
      "/tmp/ipykernel_2617722/338375764.py:23: SettingWithCopyWarning: \n",
      "A value is trying to be set on a copy of a slice from a DataFrame\n",
      "\n",
      "See the caveats in the documentation: https://pandas.pydata.org/pandas-docs/stable/user_guide/indexing.html#returning-a-view-versus-a-copy\n",
      "  artist_info_df['feat_track_ids'].iloc[i] = ', '.join(track_ids)\n",
      "/tmp/ipykernel_2617722/338375764.py:23: SettingWithCopyWarning: \n",
      "A value is trying to be set on a copy of a slice from a DataFrame\n",
      "\n",
      "See the caveats in the documentation: https://pandas.pydata.org/pandas-docs/stable/user_guide/indexing.html#returning-a-view-versus-a-copy\n",
      "  artist_info_df['feat_track_ids'].iloc[i] = ', '.join(track_ids)\n",
      "/tmp/ipykernel_2617722/338375764.py:23: SettingWithCopyWarning: \n",
      "A value is trying to be set on a copy of a slice from a DataFrame\n",
      "\n",
      "See the caveats in the documentation: https://pandas.pydata.org/pandas-docs/stable/user_guide/indexing.html#returning-a-view-versus-a-copy\n",
      "  artist_info_df['feat_track_ids'].iloc[i] = ', '.join(track_ids)\n",
      "/tmp/ipykernel_2617722/338375764.py:23: SettingWithCopyWarning: \n",
      "A value is trying to be set on a copy of a slice from a DataFrame\n",
      "\n",
      "See the caveats in the documentation: https://pandas.pydata.org/pandas-docs/stable/user_guide/indexing.html#returning-a-view-versus-a-copy\n",
      "  artist_info_df['feat_track_ids'].iloc[i] = ', '.join(track_ids)\n",
      "/tmp/ipykernel_2617722/338375764.py:23: SettingWithCopyWarning: \n",
      "A value is trying to be set on a copy of a slice from a DataFrame\n",
      "\n",
      "See the caveats in the documentation: https://pandas.pydata.org/pandas-docs/stable/user_guide/indexing.html#returning-a-view-versus-a-copy\n",
      "  artist_info_df['feat_track_ids'].iloc[i] = ', '.join(track_ids)\n",
      "/tmp/ipykernel_2617722/338375764.py:23: SettingWithCopyWarning: \n",
      "A value is trying to be set on a copy of a slice from a DataFrame\n",
      "\n",
      "See the caveats in the documentation: https://pandas.pydata.org/pandas-docs/stable/user_guide/indexing.html#returning-a-view-versus-a-copy\n",
      "  artist_info_df['feat_track_ids'].iloc[i] = ', '.join(track_ids)\n",
      "/tmp/ipykernel_2617722/338375764.py:23: SettingWithCopyWarning: \n",
      "A value is trying to be set on a copy of a slice from a DataFrame\n",
      "\n",
      "See the caveats in the documentation: https://pandas.pydata.org/pandas-docs/stable/user_guide/indexing.html#returning-a-view-versus-a-copy\n",
      "  artist_info_df['feat_track_ids'].iloc[i] = ', '.join(track_ids)\n",
      "/tmp/ipykernel_2617722/338375764.py:23: SettingWithCopyWarning: \n",
      "A value is trying to be set on a copy of a slice from a DataFrame\n",
      "\n",
      "See the caveats in the documentation: https://pandas.pydata.org/pandas-docs/stable/user_guide/indexing.html#returning-a-view-versus-a-copy\n",
      "  artist_info_df['feat_track_ids'].iloc[i] = ', '.join(track_ids)\n"
     ]
    },
    {
     "name": "stdout",
     "output_type": "stream",
     "text": [
      "No data for 2024-04-20\n",
      "No data for 2024-04-21\n"
     ]
    },
    {
     "name": "stderr",
     "output_type": "stream",
     "text": [
      "/tmp/ipykernel_2617722/338375764.py:23: SettingWithCopyWarning: \n",
      "A value is trying to be set on a copy of a slice from a DataFrame\n",
      "\n",
      "See the caveats in the documentation: https://pandas.pydata.org/pandas-docs/stable/user_guide/indexing.html#returning-a-view-versus-a-copy\n",
      "  artist_info_df['feat_track_ids'].iloc[i] = ', '.join(track_ids)\n",
      "/tmp/ipykernel_2617722/338375764.py:23: SettingWithCopyWarning: \n",
      "A value is trying to be set on a copy of a slice from a DataFrame\n",
      "\n",
      "See the caveats in the documentation: https://pandas.pydata.org/pandas-docs/stable/user_guide/indexing.html#returning-a-view-versus-a-copy\n",
      "  artist_info_df['feat_track_ids'].iloc[i] = ', '.join(track_ids)\n",
      "/tmp/ipykernel_2617722/338375764.py:23: SettingWithCopyWarning: \n",
      "A value is trying to be set on a copy of a slice from a DataFrame\n",
      "\n",
      "See the caveats in the documentation: https://pandas.pydata.org/pandas-docs/stable/user_guide/indexing.html#returning-a-view-versus-a-copy\n",
      "  artist_info_df['feat_track_ids'].iloc[i] = ', '.join(track_ids)\n",
      "/tmp/ipykernel_2617722/338375764.py:23: SettingWithCopyWarning: \n",
      "A value is trying to be set on a copy of a slice from a DataFrame\n",
      "\n",
      "See the caveats in the documentation: https://pandas.pydata.org/pandas-docs/stable/user_guide/indexing.html#returning-a-view-versus-a-copy\n",
      "  artist_info_df['feat_track_ids'].iloc[i] = ', '.join(track_ids)\n",
      "/tmp/ipykernel_2617722/338375764.py:23: SettingWithCopyWarning: \n",
      "A value is trying to be set on a copy of a slice from a DataFrame\n",
      "\n",
      "See the caveats in the documentation: https://pandas.pydata.org/pandas-docs/stable/user_guide/indexing.html#returning-a-view-versus-a-copy\n",
      "  artist_info_df['feat_track_ids'].iloc[i] = ', '.join(track_ids)\n"
     ]
    },
    {
     "name": "stdout",
     "output_type": "stream",
     "text": [
      "No data for 2024-04-27\n"
     ]
    },
    {
     "name": "stderr",
     "output_type": "stream",
     "text": [
      "/tmp/ipykernel_2617722/338375764.py:23: SettingWithCopyWarning: \n",
      "A value is trying to be set on a copy of a slice from a DataFrame\n",
      "\n",
      "See the caveats in the documentation: https://pandas.pydata.org/pandas-docs/stable/user_guide/indexing.html#returning-a-view-versus-a-copy\n",
      "  artist_info_df['feat_track_ids'].iloc[i] = ', '.join(track_ids)\n",
      "/tmp/ipykernel_2617722/338375764.py:23: SettingWithCopyWarning: \n",
      "A value is trying to be set on a copy of a slice from a DataFrame\n",
      "\n",
      "See the caveats in the documentation: https://pandas.pydata.org/pandas-docs/stable/user_guide/indexing.html#returning-a-view-versus-a-copy\n",
      "  artist_info_df['feat_track_ids'].iloc[i] = ', '.join(track_ids)\n",
      "/tmp/ipykernel_2617722/338375764.py:23: SettingWithCopyWarning: \n",
      "A value is trying to be set on a copy of a slice from a DataFrame\n",
      "\n",
      "See the caveats in the documentation: https://pandas.pydata.org/pandas-docs/stable/user_guide/indexing.html#returning-a-view-versus-a-copy\n",
      "  artist_info_df['feat_track_ids'].iloc[i] = ', '.join(track_ids)\n",
      "/tmp/ipykernel_2617722/338375764.py:23: SettingWithCopyWarning: \n",
      "A value is trying to be set on a copy of a slice from a DataFrame\n",
      "\n",
      "See the caveats in the documentation: https://pandas.pydata.org/pandas-docs/stable/user_guide/indexing.html#returning-a-view-versus-a-copy\n",
      "  artist_info_df['feat_track_ids'].iloc[i] = ', '.join(track_ids)\n",
      "/tmp/ipykernel_2617722/338375764.py:23: SettingWithCopyWarning: \n",
      "A value is trying to be set on a copy of a slice from a DataFrame\n",
      "\n",
      "See the caveats in the documentation: https://pandas.pydata.org/pandas-docs/stable/user_guide/indexing.html#returning-a-view-versus-a-copy\n",
      "  artist_info_df['feat_track_ids'].iloc[i] = ', '.join(track_ids)\n",
      "/tmp/ipykernel_2617722/338375764.py:23: SettingWithCopyWarning: \n",
      "A value is trying to be set on a copy of a slice from a DataFrame\n",
      "\n",
      "See the caveats in the documentation: https://pandas.pydata.org/pandas-docs/stable/user_guide/indexing.html#returning-a-view-versus-a-copy\n",
      "  artist_info_df['feat_track_ids'].iloc[i] = ', '.join(track_ids)\n"
     ]
    },
    {
     "name": "stdout",
     "output_type": "stream",
     "text": [
      "No data for 2024-05-04\n"
     ]
    },
    {
     "name": "stderr",
     "output_type": "stream",
     "text": [
      "/tmp/ipykernel_2617722/338375764.py:23: SettingWithCopyWarning: \n",
      "A value is trying to be set on a copy of a slice from a DataFrame\n",
      "\n",
      "See the caveats in the documentation: https://pandas.pydata.org/pandas-docs/stable/user_guide/indexing.html#returning-a-view-versus-a-copy\n",
      "  artist_info_df['feat_track_ids'].iloc[i] = ', '.join(track_ids)\n",
      "/tmp/ipykernel_2617722/338375764.py:23: SettingWithCopyWarning: \n",
      "A value is trying to be set on a copy of a slice from a DataFrame\n",
      "\n",
      "See the caveats in the documentation: https://pandas.pydata.org/pandas-docs/stable/user_guide/indexing.html#returning-a-view-versus-a-copy\n",
      "  artist_info_df['feat_track_ids'].iloc[i] = ', '.join(track_ids)\n",
      "/tmp/ipykernel_2617722/338375764.py:23: SettingWithCopyWarning: \n",
      "A value is trying to be set on a copy of a slice from a DataFrame\n",
      "\n",
      "See the caveats in the documentation: https://pandas.pydata.org/pandas-docs/stable/user_guide/indexing.html#returning-a-view-versus-a-copy\n",
      "  artist_info_df['feat_track_ids'].iloc[i] = ', '.join(track_ids)\n",
      "/tmp/ipykernel_2617722/338375764.py:23: SettingWithCopyWarning: \n",
      "A value is trying to be set on a copy of a slice from a DataFrame\n",
      "\n",
      "See the caveats in the documentation: https://pandas.pydata.org/pandas-docs/stable/user_guide/indexing.html#returning-a-view-versus-a-copy\n",
      "  artist_info_df['feat_track_ids'].iloc[i] = ', '.join(track_ids)\n",
      "/tmp/ipykernel_2617722/338375764.py:23: SettingWithCopyWarning: \n",
      "A value is trying to be set on a copy of a slice from a DataFrame\n",
      "\n",
      "See the caveats in the documentation: https://pandas.pydata.org/pandas-docs/stable/user_guide/indexing.html#returning-a-view-versus-a-copy\n",
      "  artist_info_df['feat_track_ids'].iloc[i] = ', '.join(track_ids)\n"
     ]
    }
   ],
   "source": [
    "for date in dates:\n",
    "    # load artist info file and corresponding ID file\n",
    "    try:\n",
    "        artist_info_df = pd.read_csv(DEFAULT_DIR + 'artists_last_24hrs_' + date + '_info.csv')\n",
    "        track_ids_df = pd.read_csv(DEFAULT_DIR + 'track_ids_last_24hrs_' + date + '.csv')\n",
    "    except FileNotFoundError:\n",
    "        print('No data for', date)\n",
    "        continue\n",
    "\n",
    "    # ensure that the number of duplicated artist ids in artist_info_df is zero\n",
    "    dupes = artist_info_df['ids'].duplicated().sum()\n",
    "    if dupes > 0:\n",
    "        print('Duplicated artist IDs for date {:s}:'.format(date), dupes)\n",
    "        break\n",
    "\n",
    "    # assign track IDs from track_ids_df to corresponding artist IDs in artist_info_df,\n",
    "    # in a new column called 'feat_track_ids'\n",
    "    artist_info_df['feat_track_ids'] = np.nan\n",
    "    for i in range(len(artist_info_df)):\n",
    "        artist_id = artist_info_df['ids'].iloc[i]\n",
    "        track_ids = track_ids_df[track_ids_df['artist_ids'] == artist_id]['track_ids'].values\n",
    "        if len(track_ids) > 0:\n",
    "            artist_info_df['feat_track_ids'].iloc[i] = ', '.join(track_ids)\n",
    "    if artist_info_df['feat_track_ids'].isnull().sum() > 0:\n",
    "        print('Unassigned track IDs for date {:s}:'.format(date), artist_info_df['feat_track_ids'].isnull().sum())\n",
    "        break\n",
    "\n",
    "    # attach the date to a new 'dates' column, and attach it to every row\n",
    "    artist_info_df['dates'] = date\n",
    "    if artist_info_df['dates'].isnull().sum() > 0:\n",
    "        print('Unassigned dates for date {:s}:'.format(date), artist_info_df['dates'].isnull().sum())\n",
    "        break\n",
    "\n",
    "    # concatenate to the main data file\n",
    "    df_feat = pd.concat([df_feat, artist_info_df], ignore_index=True)"
   ]
  },
  {
   "cell_type": "code",
   "execution_count": 31,
   "metadata": {},
   "outputs": [
    {
     "name": "stdout",
     "output_type": "stream",
     "text": [
      "['2024-04-01' '2024-04-02' '2024-04-03' '2024-04-04' '2024-04-05'\n",
      " '2024-04-06' '2024-04-07' '2024-04-08' '2024-04-09' '2024-04-10'\n",
      " '2024-04-11' '2024-04-12' '2024-04-13' '2024-04-14' '2024-04-15'\n",
      " '2024-04-16' '2024-04-17' '2024-04-18' '2024-04-19' '2024-04-22'\n",
      " '2024-04-23' '2024-04-24' '2024-04-25' '2024-04-26' '2024-04-28'\n",
      " '2024-04-29' '2024-04-30' '2024-05-01' '2024-05-02' '2024-05-03'\n",
      " '2024-05-05' '2024-05-06' '2024-05-07' '2024-05-08' '2024-05-09']\n"
     ]
    },
    {
     "data": {
      "text/html": [
       "<div>\n",
       "<style scoped>\n",
       "    .dataframe tbody tr th:only-of-type {\n",
       "        vertical-align: middle;\n",
       "    }\n",
       "\n",
       "    .dataframe tbody tr th {\n",
       "        vertical-align: top;\n",
       "    }\n",
       "\n",
       "    .dataframe thead th {\n",
       "        text-align: right;\n",
       "    }\n",
       "</style>\n",
       "<table border=\"1\" class=\"dataframe\">\n",
       "  <thead>\n",
       "    <tr style=\"text-align: right;\">\n",
       "      <th></th>\n",
       "      <th>monthly_listeners</th>\n",
       "      <th>popularity</th>\n",
       "      <th>followers</th>\n",
       "      <th>first_release</th>\n",
       "      <th>last_release</th>\n",
       "      <th>num_releases</th>\n",
       "      <th>num_tracks</th>\n",
       "    </tr>\n",
       "  </thead>\n",
       "  <tbody>\n",
       "    <tr>\n",
       "      <th>count</th>\n",
       "      <td>2.773500e+04</td>\n",
       "      <td>27782.000000</td>\n",
       "      <td>2.778200e+04</td>\n",
       "      <td>27782.000000</td>\n",
       "      <td>27782.000000</td>\n",
       "      <td>27782.000000</td>\n",
       "      <td>27782.000000</td>\n",
       "    </tr>\n",
       "    <tr>\n",
       "      <th>mean</th>\n",
       "      <td>5.314222e+06</td>\n",
       "      <td>48.626377</td>\n",
       "      <td>2.090751e+06</td>\n",
       "      <td>1992.757757</td>\n",
       "      <td>2001.176517</td>\n",
       "      <td>14.651573</td>\n",
       "      <td>2.362249</td>\n",
       "    </tr>\n",
       "    <tr>\n",
       "      <th>std</th>\n",
       "      <td>1.220245e+07</td>\n",
       "      <td>18.846193</td>\n",
       "      <td>7.965034e+06</td>\n",
       "      <td>213.370575</td>\n",
       "      <td>210.956063</td>\n",
       "      <td>6.527520</td>\n",
       "      <td>3.760286</td>\n",
       "    </tr>\n",
       "    <tr>\n",
       "      <th>min</th>\n",
       "      <td>0.000000e+00</td>\n",
       "      <td>0.000000</td>\n",
       "      <td>0.000000e+00</td>\n",
       "      <td>-1.000000</td>\n",
       "      <td>-1.000000</td>\n",
       "      <td>0.000000</td>\n",
       "      <td>0.000000</td>\n",
       "    </tr>\n",
       "    <tr>\n",
       "      <th>25%</th>\n",
       "      <td>1.213780e+05</td>\n",
       "      <td>36.000000</td>\n",
       "      <td>1.286250e+03</td>\n",
       "      <td>2013.000000</td>\n",
       "      <td>2023.000000</td>\n",
       "      <td>9.000000</td>\n",
       "      <td>1.000000</td>\n",
       "    </tr>\n",
       "    <tr>\n",
       "      <th>50%</th>\n",
       "      <td>5.315600e+05</td>\n",
       "      <td>48.000000</td>\n",
       "      <td>4.625100e+04</td>\n",
       "      <td>2019.000000</td>\n",
       "      <td>2024.000000</td>\n",
       "      <td>20.000000</td>\n",
       "      <td>1.000000</td>\n",
       "    </tr>\n",
       "    <tr>\n",
       "      <th>75%</th>\n",
       "      <td>3.778614e+06</td>\n",
       "      <td>62.000000</td>\n",
       "      <td>6.342625e+05</td>\n",
       "      <td>2021.000000</td>\n",
       "      <td>2024.000000</td>\n",
       "      <td>20.000000</td>\n",
       "      <td>2.000000</td>\n",
       "    </tr>\n",
       "    <tr>\n",
       "      <th>max</th>\n",
       "      <td>1.140272e+08</td>\n",
       "      <td>100.000000</td>\n",
       "      <td>1.137957e+08</td>\n",
       "      <td>2024.000000</td>\n",
       "      <td>2024.000000</td>\n",
       "      <td>20.000000</td>\n",
       "      <td>101.000000</td>\n",
       "    </tr>\n",
       "  </tbody>\n",
       "</table>\n",
       "</div>"
      ],
      "text/plain": [
       "       monthly_listeners    popularity     followers  first_release  \\\n",
       "count       2.773500e+04  27782.000000  2.778200e+04   27782.000000   \n",
       "mean        5.314222e+06     48.626377  2.090751e+06    1992.757757   \n",
       "std         1.220245e+07     18.846193  7.965034e+06     213.370575   \n",
       "min         0.000000e+00      0.000000  0.000000e+00      -1.000000   \n",
       "25%         1.213780e+05     36.000000  1.286250e+03    2013.000000   \n",
       "50%         5.315600e+05     48.000000  4.625100e+04    2019.000000   \n",
       "75%         3.778614e+06     62.000000  6.342625e+05    2021.000000   \n",
       "max         1.140272e+08    100.000000  1.137957e+08    2024.000000   \n",
       "\n",
       "       last_release  num_releases    num_tracks  \n",
       "count  27782.000000  27782.000000  27782.000000  \n",
       "mean    2001.176517     14.651573      2.362249  \n",
       "std      210.956063      6.527520      3.760286  \n",
       "min       -1.000000      0.000000      0.000000  \n",
       "25%     2023.000000      9.000000      1.000000  \n",
       "50%     2024.000000     20.000000      1.000000  \n",
       "75%     2024.000000     20.000000      2.000000  \n",
       "max     2024.000000     20.000000    101.000000  "
      ]
     },
     "execution_count": 31,
     "metadata": {},
     "output_type": "execute_result"
    }
   ],
   "source": [
    "print(df_feat.dates.unique())\n",
    "df_feat.describe()"
   ]
  },
  {
   "cell_type": "code",
   "execution_count": 33,
   "metadata": {},
   "outputs": [
    {
     "data": {
      "text/plain": [
       "dates\n",
       "2024-04-01     185\n",
       "2024-04-02    1000\n",
       "2024-04-03     885\n",
       "2024-04-04    1000\n",
       "2024-04-05    1000\n",
       "2024-04-06    1000\n",
       "2024-04-07     488\n",
       "2024-04-08     470\n",
       "2024-04-09    1000\n",
       "2024-04-10     945\n",
       "2024-04-11    1000\n",
       "2024-04-12    1000\n",
       "2024-04-13     129\n",
       "2024-04-14     120\n",
       "2024-04-15     599\n",
       "2024-04-16    1000\n",
       "2024-04-17    1000\n",
       "2024-04-18     928\n",
       "2024-04-19    1000\n",
       "2024-04-22     637\n",
       "2024-04-23     919\n",
       "2024-04-24     911\n",
       "2024-04-25     749\n",
       "2024-04-26    1000\n",
       "2024-04-28     432\n",
       "2024-04-29     960\n",
       "2024-04-30     663\n",
       "2024-05-01    1000\n",
       "2024-05-02    1000\n",
       "2024-05-03    1000\n",
       "2024-05-05     597\n",
       "2024-05-06     311\n",
       "2024-05-07     854\n",
       "2024-05-08    1000\n",
       "2024-05-09    1000\n",
       "Name: count, dtype: int64"
      ]
     },
     "execution_count": 33,
     "metadata": {},
     "output_type": "execute_result"
    }
   ],
   "source": [
    "# check that no date has more than 1,000 unique artists collected\n",
    "df_feat['dates'].value_counts().sort_index()"
   ]
  },
  {
   "cell_type": "code",
   "execution_count": 32,
   "metadata": {},
   "outputs": [],
   "source": [
    "# save df_feat to new csv file\n",
    "df_feat.to_csv(DEFAULT_DIR + 'featured_Spotify_artist_info.csv', index=False)"
   ]
  },
  {
   "cell_type": "code",
   "execution_count": 72,
   "metadata": {},
   "outputs": [
    {
     "name": "stdout",
     "output_type": "stream",
     "text": [
      "Number of unique artists: 10617\n"
     ]
    }
   ],
   "source": [
    "# print number of unique artists in df_feat\n",
    "print('Number of unique artists:', len(df_feat['ids'].unique()))"
   ]
  },
  {
   "cell_type": "code",
   "execution_count": 64,
   "metadata": {},
   "outputs": [
    {
     "data": {
      "text/html": [
       "<div>\n",
       "<style scoped>\n",
       "    .dataframe tbody tr th:only-of-type {\n",
       "        vertical-align: middle;\n",
       "    }\n",
       "\n",
       "    .dataframe tbody tr th {\n",
       "        vertical-align: top;\n",
       "    }\n",
       "\n",
       "    .dataframe thead th {\n",
       "        text-align: right;\n",
       "    }\n",
       "</style>\n",
       "<table border=\"1\" class=\"dataframe\">\n",
       "  <thead>\n",
       "    <tr style=\"text-align: right;\">\n",
       "      <th></th>\n",
       "      <th>dates</th>\n",
       "      <th>ids</th>\n",
       "      <th>names</th>\n",
       "      <th>monthly_listeners</th>\n",
       "      <th>popularity</th>\n",
       "      <th>followers</th>\n",
       "      <th>genres</th>\n",
       "      <th>first_release</th>\n",
       "      <th>last_release</th>\n",
       "      <th>num_releases</th>\n",
       "      <th>num_tracks</th>\n",
       "      <th>playlists_found</th>\n",
       "      <th>feat_track_ids</th>\n",
       "    </tr>\n",
       "  </thead>\n",
       "  <tbody>\n",
       "  </tbody>\n",
       "</table>\n",
       "</div>"
      ],
      "text/plain": [
       "Empty DataFrame\n",
       "Columns: [dates, ids, names, monthly_listeners, popularity, followers, genres, first_release, last_release, num_releases, num_tracks, playlists_found, feat_track_ids]\n",
       "Index: []"
      ]
     },
     "execution_count": 64,
     "metadata": {},
     "output_type": "execute_result"
    }
   ],
   "source": [
    "# check for duplicates that are identical in every column\n",
    "df_feat[df_feat.duplicated()]"
   ]
  },
  {
   "cell_type": "code",
   "execution_count": 68,
   "metadata": {},
   "outputs": [
    {
     "name": "stdout",
     "output_type": "stream",
     "text": [
      "27782\n",
      "34375\n"
     ]
    }
   ],
   "source": [
    "# create a master dataframe of unique feat_track_ids with dates, artist ids as a list of strings,\n",
    "# and playlists found\n",
    "df_feat_tracks = df_feat[['feat_track_ids', 'dates', 'ids', 'playlists_found']]\n",
    "df_feat_tracks = df_feat_tracks.dropna(subset=['feat_track_ids'])\n",
    "print(len(df_feat_tracks))\n",
    "# split the feat_track_ids into a list of single track IDs\n",
    "df_feat_tracks['feat_track_ids'] = df_feat_tracks['feat_track_ids'].apply(lambda x: x.split(', '))\n",
    "df_feat_tracks = df_feat_tracks.explode('feat_track_ids')\n",
    "# combine rows with the same track ID, date and playlist, and concatenate artist ID\n",
    "df_feat_tracks = df_feat_tracks.groupby(['feat_track_ids', 'dates', 'playlists_found']).agg({\n",
    "    'ids': lambda x: ', '.join(x),\n",
    "}).reset_index()\n",
    "print(len(df_feat_tracks))"
   ]
  },
  {
   "cell_type": "code",
   "execution_count": 69,
   "metadata": {},
   "outputs": [
    {
     "name": "stdout",
     "output_type": "stream",
     "text": [
      "15052 15052\n"
     ]
    }
   ],
   "source": [
    "# count the number of times each track appears on a different date and playlist, and store it in a new column\n",
    "df_feat_tracks['count'] = df_feat_tracks.groupby('feat_track_ids')['feat_track_ids'].transform('count')\n",
    "# combine rows with the same track ID and count, and concatenate artist IDs, playlists and dates\n",
    "df_feat_tracks = df_feat_tracks.groupby(['feat_track_ids', 'count']).agg({\n",
    "    'ids': lambda x: ', '.join(x),\n",
    "    'playlists_found': lambda x: ', '.join(x),\n",
    "    'dates': lambda x: ', '.join(x)\n",
    "}).reset_index()\n",
    "# remove duplicate artist ids within the same row, due to identical tracks featured on different\n",
    "# playlists and/or dates\n",
    "df_feat_tracks['ids'] = df_feat_tracks['ids'].apply(lambda x: list(set(x.split(', '))))\n",
    "df_feat_tracks['ids'] = df_feat_tracks['ids'].apply(lambda x: ', '.join(x))\n",
    "# same for playlists\n",
    "df_feat_tracks['playlists_found'] = df_feat_tracks['playlists_found'].apply(lambda x: list(set(x.split(', '))))\n",
    "df_feat_tracks['playlists_found'] = df_feat_tracks['playlists_found'].apply(lambda x: ', '.join(x))\n",
    "# same for dates\n",
    "df_feat_tracks['dates'] = df_feat_tracks['dates'].apply(lambda x: list(set(x.split(', '))))\n",
    "df_feat_tracks['dates'] = df_feat_tracks['dates'].apply(lambda x: ', '.join(x))\n",
    "# sort dataframe by date\n",
    "df_feat_tracks = df_feat_tracks.sort_values('dates')\n",
    "print(len(df_feat_tracks), len(df_feat_tracks['feat_track_ids'].unique()))"
   ]
  },
  {
   "cell_type": "code",
   "execution_count": 70,
   "metadata": {},
   "outputs": [
    {
     "name": "stdout",
     "output_type": "stream",
     "text": [
      "33\n"
     ]
    }
   ],
   "source": [
    "print(max(df_feat_tracks['count']))"
   ]
  },
  {
   "cell_type": "code",
   "execution_count": 71,
   "metadata": {},
   "outputs": [],
   "source": [
    "# save df_feat to new csv file\n",
    "df_feat_tracks.to_csv(DEFAULT_DIR + 'featured_Spotify_tracks.csv', index=False)"
   ]
  },
  {
   "cell_type": "code",
   "execution_count": null,
   "metadata": {},
   "outputs": [],
   "source": []
  }
 ],
 "metadata": {
  "kernelspec": {
   "display_name": "jupyter_py3.8",
   "language": "python",
   "name": "python3"
  },
  "language_info": {
   "codemirror_mode": {
    "name": "ipython",
    "version": 3
   },
   "file_extension": ".py",
   "mimetype": "text/x-python",
   "name": "python",
   "nbconvert_exporter": "python",
   "pygments_lexer": "ipython3",
   "version": "3.8.18"
  }
 },
 "nbformat": 4,
 "nbformat_minor": 2
}
